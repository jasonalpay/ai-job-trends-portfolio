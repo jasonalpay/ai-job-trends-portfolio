{
 "cells": [
  {
   "cell_type": "code",
   "execution_count": 3,
   "id": "4166a013-bde4-43fa-8c37-f27eed33d370",
   "metadata": {},
   "outputs": [
    {
     "data": {
      "text/plain": [
       "'C:\\\\Users\\\\ralph\\\\Downloads'"
      ]
     },
     "execution_count": 3,
     "metadata": {},
     "output_type": "execute_result"
    }
   ],
   "source": [
    "import os\n",
    "os.getcwd()\n"
   ]
  },
  {
   "cell_type": "code",
   "execution_count": 6,
   "id": "ca8bb266-2740-495c-8ddc-6e084b234ef5",
   "metadata": {},
   "outputs": [
    {
     "data": {
      "text/plain": [
       "['.ipynb_checkpoints',\n",
       " 'ai_job_trends_dataset.csv.csv',\n",
       " 'Anaconda3-2025.06-0-Windows-x86_64.exe',\n",
       " 'archive.zip',\n",
       " 'ChromeSetup.exe',\n",
       " 'DB.Browser.for.SQLite-v3.13.1-win32.msi',\n",
       " 'desktop.ini',\n",
       " 'DiscordSetup.exe',\n",
       " 'EpicInstaller-18.5.0.msi',\n",
       " 'Install VALORANT.exe',\n",
       " 'MedalSetup.NDA1MTIwNzMyLDAs.exe',\n",
       " 'MediBangPaintProSetup-29.1-64bit.exe',\n",
       " 'NVIDIA_app_v11.0.4.148.exe',\n",
       " 'OBS-Studio-31.0.3-Windows-Installer.exe',\n",
       " 'RobloxPlayerInstaller-76XM3XJMQY.exe',\n",
       " 'SpotifySetup.exe',\n",
       " 'sqlite-src-3500200.zip',\n",
       " 'SteamSetup.exe',\n",
       " 'Untitled.ipynb',\n",
       " 'WacomTablet_6.4.10-3.exe']"
      ]
     },
     "execution_count": 6,
     "metadata": {},
     "output_type": "execute_result"
    }
   ],
   "source": [
    "import os\n",
    "os.listdir()\n"
   ]
  },
  {
   "cell_type": "code",
   "execution_count": 7,
   "id": "8bbea5bd-2b8e-47eb-8a5c-46b3743887fe",
   "metadata": {},
   "outputs": [
    {
     "data": {
      "text/html": [
       "<div>\n",
       "<style scoped>\n",
       "    .dataframe tbody tr th:only-of-type {\n",
       "        vertical-align: middle;\n",
       "    }\n",
       "\n",
       "    .dataframe tbody tr th {\n",
       "        vertical-align: top;\n",
       "    }\n",
       "\n",
       "    .dataframe thead th {\n",
       "        text-align: right;\n",
       "    }\n",
       "</style>\n",
       "<table border=\"1\" class=\"dataframe\">\n",
       "  <thead>\n",
       "    <tr style=\"text-align: right;\">\n",
       "      <th></th>\n",
       "      <th>Job Title</th>\n",
       "      <th>Industry</th>\n",
       "      <th>Job Status</th>\n",
       "      <th>AI Impact Level</th>\n",
       "      <th>Median Salary (USD)</th>\n",
       "      <th>Required Education</th>\n",
       "      <th>Experience Required (Years)</th>\n",
       "      <th>Job Openings (2024)</th>\n",
       "      <th>Projected Openings (2030)</th>\n",
       "      <th>Remote Work Ratio (%)</th>\n",
       "      <th>Automation Risk (%)</th>\n",
       "      <th>Location</th>\n",
       "      <th>Gender Diversity (%)</th>\n",
       "    </tr>\n",
       "  </thead>\n",
       "  <tbody>\n",
       "    <tr>\n",
       "      <th>0</th>\n",
       "      <td>Investment analyst</td>\n",
       "      <td>IT</td>\n",
       "      <td>Increasing</td>\n",
       "      <td>Moderate</td>\n",
       "      <td>42109.76</td>\n",
       "      <td>Master’s Degree</td>\n",
       "      <td>5</td>\n",
       "      <td>1515</td>\n",
       "      <td>6342</td>\n",
       "      <td>55.96</td>\n",
       "      <td>28.28</td>\n",
       "      <td>UK</td>\n",
       "      <td>44.63</td>\n",
       "    </tr>\n",
       "    <tr>\n",
       "      <th>1</th>\n",
       "      <td>Journalist, newspaper</td>\n",
       "      <td>Manufacturing</td>\n",
       "      <td>Increasing</td>\n",
       "      <td>Moderate</td>\n",
       "      <td>132298.57</td>\n",
       "      <td>Master’s Degree</td>\n",
       "      <td>15</td>\n",
       "      <td>1243</td>\n",
       "      <td>6205</td>\n",
       "      <td>16.81</td>\n",
       "      <td>89.71</td>\n",
       "      <td>USA</td>\n",
       "      <td>66.39</td>\n",
       "    </tr>\n",
       "    <tr>\n",
       "      <th>2</th>\n",
       "      <td>Financial planner</td>\n",
       "      <td>Finance</td>\n",
       "      <td>Increasing</td>\n",
       "      <td>Low</td>\n",
       "      <td>143279.19</td>\n",
       "      <td>Bachelor’s Degree</td>\n",
       "      <td>4</td>\n",
       "      <td>3338</td>\n",
       "      <td>1154</td>\n",
       "      <td>91.82</td>\n",
       "      <td>72.97</td>\n",
       "      <td>Canada</td>\n",
       "      <td>41.13</td>\n",
       "    </tr>\n",
       "    <tr>\n",
       "      <th>3</th>\n",
       "      <td>Legal secretary</td>\n",
       "      <td>Healthcare</td>\n",
       "      <td>Increasing</td>\n",
       "      <td>High</td>\n",
       "      <td>97576.13</td>\n",
       "      <td>Associate Degree</td>\n",
       "      <td>15</td>\n",
       "      <td>7173</td>\n",
       "      <td>4060</td>\n",
       "      <td>1.89</td>\n",
       "      <td>99.94</td>\n",
       "      <td>Australia</td>\n",
       "      <td>65.76</td>\n",
       "    </tr>\n",
       "    <tr>\n",
       "      <th>4</th>\n",
       "      <td>Aeronautical engineer</td>\n",
       "      <td>IT</td>\n",
       "      <td>Increasing</td>\n",
       "      <td>Low</td>\n",
       "      <td>60956.63</td>\n",
       "      <td>Master’s Degree</td>\n",
       "      <td>13</td>\n",
       "      <td>5944</td>\n",
       "      <td>7396</td>\n",
       "      <td>53.76</td>\n",
       "      <td>37.65</td>\n",
       "      <td>Germany</td>\n",
       "      <td>72.57</td>\n",
       "    </tr>\n",
       "  </tbody>\n",
       "</table>\n",
       "</div>"
      ],
      "text/plain": [
       "               Job Title       Industry  Job Status AI Impact Level  \\\n",
       "0     Investment analyst             IT  Increasing        Moderate   \n",
       "1  Journalist, newspaper  Manufacturing  Increasing        Moderate   \n",
       "2      Financial planner        Finance  Increasing             Low   \n",
       "3        Legal secretary     Healthcare  Increasing            High   \n",
       "4  Aeronautical engineer             IT  Increasing             Low   \n",
       "\n",
       "   Median Salary (USD) Required Education  Experience Required (Years)  \\\n",
       "0             42109.76    Master’s Degree                            5   \n",
       "1            132298.57    Master’s Degree                           15   \n",
       "2            143279.19  Bachelor’s Degree                            4   \n",
       "3             97576.13   Associate Degree                           15   \n",
       "4             60956.63    Master’s Degree                           13   \n",
       "\n",
       "   Job Openings (2024)  Projected Openings (2030)  Remote Work Ratio (%)  \\\n",
       "0                 1515                       6342                  55.96   \n",
       "1                 1243                       6205                  16.81   \n",
       "2                 3338                       1154                  91.82   \n",
       "3                 7173                       4060                   1.89   \n",
       "4                 5944                       7396                  53.76   \n",
       "\n",
       "   Automation Risk (%)   Location  Gender Diversity (%)  \n",
       "0                28.28         UK                 44.63  \n",
       "1                89.71        USA                 66.39  \n",
       "2                72.97     Canada                 41.13  \n",
       "3                99.94  Australia                 65.76  \n",
       "4                37.65    Germany                 72.57  "
      ]
     },
     "execution_count": 7,
     "metadata": {},
     "output_type": "execute_result"
    }
   ],
   "source": [
    "import pandas as pd\n",
    "\n",
    "df = pd.read_csv(\"ai_job_trends_dataset.csv\")\n",
    "df.head()\n"
   ]
  },
  {
   "cell_type": "code",
   "execution_count": 8,
   "id": "07b77164-9879-4f21-a9e8-90d4955de8e8",
   "metadata": {},
   "outputs": [
    {
     "name": "stdout",
     "output_type": "stream",
     "text": [
      "<class 'pandas.core.frame.DataFrame'>\n",
      "RangeIndex: 30000 entries, 0 to 29999\n",
      "Data columns (total 13 columns):\n",
      " #   Column                       Non-Null Count  Dtype  \n",
      "---  ------                       --------------  -----  \n",
      " 0   Job Title                    30000 non-null  object \n",
      " 1   Industry                     30000 non-null  object \n",
      " 2   Job Status                   30000 non-null  object \n",
      " 3   AI Impact Level              30000 non-null  object \n",
      " 4   Median Salary (USD)          30000 non-null  float64\n",
      " 5   Required Education           30000 non-null  object \n",
      " 6   Experience Required (Years)  30000 non-null  int64  \n",
      " 7   Job Openings (2024)          30000 non-null  int64  \n",
      " 8   Projected Openings (2030)    30000 non-null  int64  \n",
      " 9   Remote Work Ratio (%)        30000 non-null  float64\n",
      " 10  Automation Risk (%)          30000 non-null  float64\n",
      " 11  Location                     30000 non-null  object \n",
      " 12  Gender Diversity (%)         30000 non-null  float64\n",
      "dtypes: float64(4), int64(3), object(6)\n",
      "memory usage: 3.0+ MB\n"
     ]
    }
   ],
   "source": [
    "# Check for duplicates\n",
    "df.duplicated().sum()\n",
    "\n",
    "# Check for missing values\n",
    "df.isnull().sum()\n",
    "\n",
    "# Look at data types and formatting\n",
    "df.info()\n"
   ]
  },
  {
   "cell_type": "code",
   "execution_count": 9,
   "id": "5872d71a-1c00-4a41-a6fa-eca924c5547e",
   "metadata": {},
   "outputs": [],
   "source": [
    "import pandas as pd\n",
    "\n",
    "df = pd.read_csv(\"ai_job_trends_dataset.csv\")\n",
    "df = df.drop_duplicates()\n",
    "df['Required Education'] = df['Required Education'].str.lower().str.strip()\n"
   ]
  },
  {
   "cell_type": "code",
   "execution_count": 12,
   "id": "7c989bc3-2441-42b5-83f4-1eb6f3229e7c",
   "metadata": {},
   "outputs": [
    {
     "data": {
      "text/plain": [
       "Industry\n",
       "Entertainment     3895\n",
       "Manufacturing     3855\n",
       "Healthcare        3771\n",
       "Finance           3721\n",
       "Education         3714\n",
       "Retail            3702\n",
       "IT                3681\n",
       "Transportation    3661\n",
       "Name: count, dtype: int64"
      ]
     },
     "execution_count": 12,
     "metadata": {},
     "output_type": "execute_result"
    }
   ],
   "source": [
    "df.describe()\n",
    "df['Industry'].value_counts().head(10)\n"
   ]
  },
  {
   "cell_type": "code",
   "execution_count": 13,
   "id": "0ec12d54-8496-4298-898a-df405173e312",
   "metadata": {},
   "outputs": [],
   "source": [
    "import pandas as pd\n",
    "\n",
    "df = pd.read_csv(\"ai_job_trends_dataset.csv\")\n",
    "df = df.drop_duplicates()\n",
    "df['Required Education'] = df['Required Education'].str.lower().str.strip()\n"
   ]
  },
  {
   "cell_type": "code",
   "execution_count": 14,
   "id": "debd4ea8-e18a-49d9-aa76-57ce18b5ca50",
   "metadata": {},
   "outputs": [
    {
     "data": {
      "text/plain": [
       "Industry\n",
       "Entertainment     3895\n",
       "Manufacturing     3855\n",
       "Healthcare        3771\n",
       "Finance           3721\n",
       "Education         3714\n",
       "Retail            3702\n",
       "IT                3681\n",
       "Transportation    3661\n",
       "Name: count, dtype: int64"
      ]
     },
     "execution_count": 14,
     "metadata": {},
     "output_type": "execute_result"
    }
   ],
   "source": [
    "df.describe()\n",
    "df['Industry'].value_counts().head(10)"
   ]
  },
  {
   "cell_type": "code",
   "execution_count": 15,
   "id": "cc78d67b-8fd8-423f-a88d-0c6f8db2bd16",
   "metadata": {},
   "outputs": [
    {
     "data": {
      "text/plain": [
       "<Axes: title={'center': 'Top 10 Industries by Job Count'}, ylabel='Industry'>"
      ]
     },
     "execution_count": 15,
     "metadata": {},
     "output_type": "execute_result"
    },
    {
     "data": {
      "image/png": "[encoded data removed]",
      "text/plain": [
       "<Figure size 1000x600 with 1 Axes>"
      ]
     },
     "metadata": {},
     "output_type": "display_data"
    }
   ],
   "source": [
    "df['Industry'].value_counts().head(10).plot(kind='barh', figsize=(10,6), title='Top 10 Industries by Job Count')\n"
   ]
  },
  {
   "cell_type": "code",
   "execution_count": 16,
   "id": "d65396eb-13c3-4f2d-a227-facc5a3f1689",
   "metadata": {},
   "outputs": [
    {
     "data": {
      "text/html": [
       "<div>\n",
       "<style scoped>\n",
       "    .dataframe tbody tr th:only-of-type {\n",
       "        vertical-align: middle;\n",
       "    }\n",
       "\n",
       "    .dataframe tbody tr th {\n",
       "        vertical-align: top;\n",
       "    }\n",
       "\n",
       "    .dataframe thead th {\n",
       "        text-align: right;\n",
       "    }\n",
       "</style>\n",
       "<table border=\"1\" class=\"dataframe\">\n",
       "  <thead>\n",
       "    <tr style=\"text-align: right;\">\n",
       "      <th></th>\n",
       "      <th>Median Salary (USD)</th>\n",
       "      <th>Automation Risk (%)</th>\n",
       "      <th>Remote Work Ratio (%)</th>\n",
       "    </tr>\n",
       "    <tr>\n",
       "      <th>Industry</th>\n",
       "      <th></th>\n",
       "      <th></th>\n",
       "      <th></th>\n",
       "    </tr>\n",
       "  </thead>\n",
       "  <tbody>\n",
       "    <tr>\n",
       "      <th>IT</th>\n",
       "      <td>90941.672551</td>\n",
       "      <td>49.876338</td>\n",
       "      <td>49.344841</td>\n",
       "    </tr>\n",
       "    <tr>\n",
       "      <th>Retail</th>\n",
       "      <td>90903.677461</td>\n",
       "      <td>49.608512</td>\n",
       "      <td>50.162396</td>\n",
       "    </tr>\n",
       "    <tr>\n",
       "      <th>Finance</th>\n",
       "      <td>90510.599371</td>\n",
       "      <td>50.506203</td>\n",
       "      <td>48.614080</td>\n",
       "    </tr>\n",
       "    <tr>\n",
       "      <th>Entertainment</th>\n",
       "      <td>90131.000994</td>\n",
       "      <td>50.587905</td>\n",
       "      <td>49.806644</td>\n",
       "    </tr>\n",
       "    <tr>\n",
       "      <th>Manufacturing</th>\n",
       "      <td>89880.034508</td>\n",
       "      <td>49.586010</td>\n",
       "      <td>50.486122</td>\n",
       "    </tr>\n",
       "    <tr>\n",
       "      <th>Education</th>\n",
       "      <td>89665.728780</td>\n",
       "      <td>50.013546</td>\n",
       "      <td>49.874381</td>\n",
       "    </tr>\n",
       "    <tr>\n",
       "      <th>Healthcare</th>\n",
       "      <td>89494.073933</td>\n",
       "      <td>50.267560</td>\n",
       "      <td>50.359311</td>\n",
       "    </tr>\n",
       "    <tr>\n",
       "      <th>Transportation</th>\n",
       "      <td>89450.660172</td>\n",
       "      <td>50.790645</td>\n",
       "      <td>50.013961</td>\n",
       "    </tr>\n",
       "  </tbody>\n",
       "</table>\n",
       "</div>"
      ],
      "text/plain": [
       "                Median Salary (USD)  Automation Risk (%)  \\\n",
       "Industry                                                   \n",
       "IT                     90941.672551            49.876338   \n",
       "Retail                 90903.677461            49.608512   \n",
       "Finance                90510.599371            50.506203   \n",
       "Entertainment          90131.000994            50.587905   \n",
       "Manufacturing          89880.034508            49.586010   \n",
       "Education              89665.728780            50.013546   \n",
       "Healthcare             89494.073933            50.267560   \n",
       "Transportation         89450.660172            50.790645   \n",
       "\n",
       "                Remote Work Ratio (%)  \n",
       "Industry                               \n",
       "IT                          49.344841  \n",
       "Retail                      50.162396  \n",
       "Finance                     48.614080  \n",
       "Entertainment               49.806644  \n",
       "Manufacturing               50.486122  \n",
       "Education                   49.874381  \n",
       "Healthcare                  50.359311  \n",
       "Transportation              50.013961  "
      ]
     },
     "execution_count": 16,
     "metadata": {},
     "output_type": "execute_result"
    }
   ],
   "source": [
    "df.groupby(\"Industry\")[[\"Median Salary (USD)\", \"Automation Risk (%)\", \"Remote Work Ratio (%)\"]].mean().sort_values(by=\"Median Salary (USD)\", ascending=False).head(10)\n"
   ]
  },
  {
   "cell_type": "code",
   "execution_count": 17,
   "id": "cc9c0c17-f9fc-466a-b7e8-a87a2eff6505",
   "metadata": {},
   "outputs": [
    {
     "ename": "SyntaxError",
     "evalue": "invalid syntax (1805841215.py, line 1)",
     "output_type": "error",
     "traceback": [
      "\u001b[1;36m  Cell \u001b[1;32mIn[17], line 1\u001b[1;36m\u001b[0m\n\u001b[1;33m    jupyter nbconvert --to html ai_jobs_analysis.ipynb\u001b[0m\n\u001b[1;37m            ^\u001b[0m\n\u001b[1;31mSyntaxError\u001b[0m\u001b[1;31m:\u001b[0m invalid syntax\n"
     ]
    }
   ],
   "source": [
    "jupyter nbconvert --to html ai_jobs_analysis.ipynb\n"
   ]
  },
  {
   "cell_type": "code",
   "execution_count": null,
   "id": "81c35515-34a1-4cc1-a6c7-e5880016a19c",
   "metadata": {},
   "outputs": [],
   "source": []
  }
 ],
 "metadata": {
  "kernelspec": {
   "display_name": "Python 3 (ipykernel)",
   "language": "python",
   "name": "python3"
  },
  "language_info": {
   "codemirror_mode": {
    "name": "ipython",
    "version": 3
   },
   "file_extension": ".py",
   "mimetype": "text/x-python",
   "name": "python",
   "nbconvert_exporter": "python",
   "pygments_lexer": "ipython3",
   "version": "3.13.5"
  }
 },
 "nbformat": 4,
 "nbformat_minor": 5
}
